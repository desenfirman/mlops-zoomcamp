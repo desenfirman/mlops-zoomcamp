{
 "cells": [
  {
   "cell_type": "code",
   "execution_count": null,
   "id": "2c51efaa",
   "metadata": {},
   "outputs": [
    {
     "name": "stdout",
     "output_type": "stream",
     "text": [
      "scikit-learn==1.0.2\n"
     ]
    }
   ],
   "source": [
    "!pip freeze | grep scikit-learn"
   ]
  },
  {
   "cell_type": "markdown",
   "id": "ea6d512b",
   "metadata": {},
   "source": [
    "change into scikit 1.0.2"
   ]
  },
  {
   "cell_type": "code",
   "execution_count": null,
   "id": "4c293b5e",
   "metadata": {},
   "outputs": [
    {
     "name": "stdout",
     "output_type": "stream",
     "text": [
      "Requirement already satisfied: scikit-learn==1.0.2 in /home/desenfirman/miniconda3/lib/python3.8/site-packages (1.0.2)\n",
      "Requirement already satisfied: joblib>=0.11 in /home/desenfirman/miniconda3/lib/python3.8/site-packages (from scikit-learn==1.0.2) (1.1.0)\n",
      "Requirement already satisfied: threadpoolctl>=2.0.0 in /home/desenfirman/miniconda3/lib/python3.8/site-packages (from scikit-learn==1.0.2) (3.1.0)\n",
      "Requirement already satisfied: scipy>=1.1.0 in /home/desenfirman/miniconda3/lib/python3.8/site-packages (from scikit-learn==1.0.2) (1.8.1)\n",
      "Requirement already satisfied: numpy>=1.14.6 in /home/desenfirman/miniconda3/lib/python3.8/site-packages (from scikit-learn==1.0.2) (1.22.2)\n",
      "\u001b[33mWARNING: You are using pip version 22.0.4; however, version 22.1.2 is available.\n",
      "You should consider upgrading via the '/home/desenfirman/miniconda3/bin/python3.8 -m pip install --upgrade pip' command.\u001b[0m\u001b[33m\n",
      "\u001b[0m"
     ]
    }
   ],
   "source": [
    "!pip install scikit-learn==1.0.2"
   ]
  },
  {
   "cell_type": "code",
   "execution_count": null,
   "id": "0ef880a0",
   "metadata": {},
   "outputs": [],
   "source": [
    "import pickle\n",
    "import pandas as pd"
   ]
  },
  {
   "cell_type": "code",
   "execution_count": null,
   "id": "7836ccfd",
   "metadata": {},
   "outputs": [
    {
     "name": "stderr",
     "output_type": "stream",
     "text": [
      "/home/desenfirman/miniconda3/lib/python3.8/site-packages/sklearn/base.py:329: UserWarning: Trying to unpickle estimator DictVectorizer from version 1.0.2 when using version 1.1.0. This might lead to breaking code or invalid results. Use at your own risk. For more info please refer to:\n",
      "https://scikit-learn.org/stable/modules/model_persistence.html#security-maintainability-limitations\n",
      "  warnings.warn(\n",
      "/home/desenfirman/miniconda3/lib/python3.8/site-packages/sklearn/base.py:329: UserWarning: Trying to unpickle estimator LinearRegression from version 1.0.2 when using version 1.1.0. This might lead to breaking code or invalid results. Use at your own risk. For more info please refer to:\n",
      "https://scikit-learn.org/stable/modules/model_persistence.html#security-maintainability-limitations\n",
      "  warnings.warn(\n"
     ]
    }
   ],
   "source": [
    "with open('model.bin', 'rb') as f_in:\n",
    "    dv, lr = pickle.load(f_in)"
   ]
  },
  {
   "cell_type": "code",
   "execution_count": null,
   "id": "41c08294",
   "metadata": {},
   "outputs": [],
   "source": [
    "categorical = ['PUlocationID', 'DOlocationID']\n",
    "\n",
    "def read_data(filename):\n",
    "    df = pd.read_parquet(filename)\n",
    "    \n",
    "    df['duration'] = df.dropOff_datetime - df.pickup_datetime\n",
    "    df['duration'] = df.duration.dt.total_seconds() / 60\n",
    "\n",
    "    df = df[(df.duration >= 1) & (df.duration <= 60)].copy()\n",
    "\n",
    "    df[categorical] = df[categorical].fillna(-1).astype('int').astype('str')\n",
    "    \n",
    "    return df"
   ]
  },
  {
   "cell_type": "code",
   "execution_count": null,
   "id": "4854399a",
   "metadata": {},
   "outputs": [],
   "source": [
    "df = read_data('https://nyc-tlc.s3.amazonaws.com/trip+data/fhv_tripdata_2021-02.parquet')"
   ]
  },
  {
   "cell_type": "code",
   "execution_count": 80,
   "id": "669fda0a",
   "metadata": {},
   "outputs": [],
   "source": [
    "dicts = df[categorical].to_dict(orient='records')\n",
    "X_val = dv.transform(dicts)\n",
    "y_pred = lr.predict(X_val)"
   ]
  },
  {
   "cell_type": "markdown",
   "id": "ef3f068d",
   "metadata": {},
   "source": [
    "## Question 1"
   ]
  },
  {
   "cell_type": "code",
   "execution_count": 81,
   "id": "807025cd",
   "metadata": {},
   "outputs": [
    {
     "name": "stdout",
     "output_type": "stream",
     "text": [
      "16.191691679979066\n"
     ]
    }
   ],
   "source": [
    "print(y_pred.mean())"
   ]
  },
  {
   "cell_type": "markdown",
   "id": "e697ed7b",
   "metadata": {},
   "source": [
    "## Question 2"
   ]
  },
  {
   "cell_type": "code",
   "execution_count": 82,
   "id": "68d50d44",
   "metadata": {},
   "outputs": [
    {
     "data": {
      "text/html": [
       "<div>\n",
       "<style scoped>\n",
       "    .dataframe tbody tr th:only-of-type {\n",
       "        vertical-align: middle;\n",
       "    }\n",
       "\n",
       "    .dataframe tbody tr th {\n",
       "        vertical-align: top;\n",
       "    }\n",
       "\n",
       "    .dataframe thead th {\n",
       "        text-align: right;\n",
       "    }\n",
       "</style>\n",
       "<table border=\"1\" class=\"dataframe\">\n",
       "  <thead>\n",
       "    <tr style=\"text-align: right;\">\n",
       "      <th></th>\n",
       "      <th>dispatching_base_num</th>\n",
       "      <th>pickup_datetime</th>\n",
       "      <th>dropOff_datetime</th>\n",
       "      <th>PUlocationID</th>\n",
       "      <th>DOlocationID</th>\n",
       "      <th>SR_Flag</th>\n",
       "      <th>Affiliated_base_number</th>\n",
       "      <th>duration</th>\n",
       "      <th>ride_id</th>\n",
       "    </tr>\n",
       "  </thead>\n",
       "  <tbody>\n",
       "    <tr>\n",
       "      <th>1</th>\n",
       "      <td>B00021</td>\n",
       "      <td>2021-02-01 00:55:40</td>\n",
       "      <td>2021-02-01 01:06:20</td>\n",
       "      <td>173</td>\n",
       "      <td>82</td>\n",
       "      <td>None</td>\n",
       "      <td>B00021</td>\n",
       "      <td>10.666667</td>\n",
       "      <td>2022/02_1</td>\n",
       "    </tr>\n",
       "    <tr>\n",
       "      <th>2</th>\n",
       "      <td>B00021</td>\n",
       "      <td>2021-02-01 00:14:03</td>\n",
       "      <td>2021-02-01 00:28:37</td>\n",
       "      <td>173</td>\n",
       "      <td>56</td>\n",
       "      <td>None</td>\n",
       "      <td>B00021</td>\n",
       "      <td>14.566667</td>\n",
       "      <td>2022/02_2</td>\n",
       "    </tr>\n",
       "    <tr>\n",
       "      <th>3</th>\n",
       "      <td>B00021</td>\n",
       "      <td>2021-02-01 00:27:48</td>\n",
       "      <td>2021-02-01 00:35:45</td>\n",
       "      <td>82</td>\n",
       "      <td>129</td>\n",
       "      <td>None</td>\n",
       "      <td>B00021</td>\n",
       "      <td>7.950000</td>\n",
       "      <td>2022/02_3</td>\n",
       "    </tr>\n",
       "    <tr>\n",
       "      <th>4</th>\n",
       "      <td>B00037</td>\n",
       "      <td>2021-02-01 00:12:50</td>\n",
       "      <td>2021-02-01 00:26:38</td>\n",
       "      <td>-1</td>\n",
       "      <td>225</td>\n",
       "      <td>None</td>\n",
       "      <td>B00037</td>\n",
       "      <td>13.800000</td>\n",
       "      <td>2022/02_4</td>\n",
       "    </tr>\n",
       "    <tr>\n",
       "      <th>5</th>\n",
       "      <td>B00037</td>\n",
       "      <td>2021-02-01 00:00:37</td>\n",
       "      <td>2021-02-01 00:09:35</td>\n",
       "      <td>-1</td>\n",
       "      <td>61</td>\n",
       "      <td>None</td>\n",
       "      <td>B00037</td>\n",
       "      <td>8.966667</td>\n",
       "      <td>2022/02_5</td>\n",
       "    </tr>\n",
       "    <tr>\n",
       "      <th>...</th>\n",
       "      <td>...</td>\n",
       "      <td>...</td>\n",
       "      <td>...</td>\n",
       "      <td>...</td>\n",
       "      <td>...</td>\n",
       "      <td>...</td>\n",
       "      <td>...</td>\n",
       "      <td>...</td>\n",
       "      <td>...</td>\n",
       "    </tr>\n",
       "    <tr>\n",
       "      <th>1037687</th>\n",
       "      <td>B03282</td>\n",
       "      <td>2021-02-28 23:01:16</td>\n",
       "      <td>2021-02-28 23:14:48</td>\n",
       "      <td>-1</td>\n",
       "      <td>31</td>\n",
       "      <td>None</td>\n",
       "      <td>B01717</td>\n",
       "      <td>13.533333</td>\n",
       "      <td>2022/02_1037687</td>\n",
       "    </tr>\n",
       "    <tr>\n",
       "      <th>1037688</th>\n",
       "      <td>B03282</td>\n",
       "      <td>2021-02-28 23:36:10</td>\n",
       "      <td>2021-02-28 23:47:38</td>\n",
       "      <td>-1</td>\n",
       "      <td>169</td>\n",
       "      <td>None</td>\n",
       "      <td>B01717</td>\n",
       "      <td>11.466667</td>\n",
       "      <td>2022/02_1037688</td>\n",
       "    </tr>\n",
       "    <tr>\n",
       "      <th>1037689</th>\n",
       "      <td>B03285</td>\n",
       "      <td>2021-02-28 23:18:36</td>\n",
       "      <td>2021-02-28 23:43:59</td>\n",
       "      <td>28</td>\n",
       "      <td>171</td>\n",
       "      <td>None</td>\n",
       "      <td>B03285</td>\n",
       "      <td>25.383333</td>\n",
       "      <td>2022/02_1037689</td>\n",
       "    </tr>\n",
       "    <tr>\n",
       "      <th>1037690</th>\n",
       "      <td>B03285</td>\n",
       "      <td>2021-02-28 23:26:34</td>\n",
       "      <td>2021-02-28 23:44:37</td>\n",
       "      <td>16</td>\n",
       "      <td>252</td>\n",
       "      <td>None</td>\n",
       "      <td>B03285</td>\n",
       "      <td>18.050000</td>\n",
       "      <td>2022/02_1037690</td>\n",
       "    </tr>\n",
       "    <tr>\n",
       "      <th>1037691</th>\n",
       "      <td>B03285</td>\n",
       "      <td>2021-02-28 23:24:00</td>\n",
       "      <td>2021-02-28 23:40:00</td>\n",
       "      <td>171</td>\n",
       "      <td>135</td>\n",
       "      <td>None</td>\n",
       "      <td>B03285</td>\n",
       "      <td>16.000000</td>\n",
       "      <td>2022/02_1037691</td>\n",
       "    </tr>\n",
       "  </tbody>\n",
       "</table>\n",
       "<p>990113 rows × 9 columns</p>\n",
       "</div>"
      ],
      "text/plain": [
       "        dispatching_base_num     pickup_datetime    dropOff_datetime  \\\n",
       "1            B00021          2021-02-01 00:55:40 2021-02-01 01:06:20   \n",
       "2            B00021          2021-02-01 00:14:03 2021-02-01 00:28:37   \n",
       "3            B00021          2021-02-01 00:27:48 2021-02-01 00:35:45   \n",
       "4                     B00037 2021-02-01 00:12:50 2021-02-01 00:26:38   \n",
       "5                     B00037 2021-02-01 00:00:37 2021-02-01 00:09:35   \n",
       "...                      ...                 ...                 ...   \n",
       "1037687               B03282 2021-02-28 23:01:16 2021-02-28 23:14:48   \n",
       "1037688               B03282 2021-02-28 23:36:10 2021-02-28 23:47:38   \n",
       "1037689      B03285          2021-02-28 23:18:36 2021-02-28 23:43:59   \n",
       "1037690      B03285          2021-02-28 23:26:34 2021-02-28 23:44:37   \n",
       "1037691      B03285          2021-02-28 23:24:00 2021-02-28 23:40:00   \n",
       "\n",
       "        PUlocationID DOlocationID SR_Flag Affiliated_base_number   duration  \\\n",
       "1                173           82    None        B00021           10.666667   \n",
       "2                173           56    None        B00021           14.566667   \n",
       "3                 82          129    None        B00021            7.950000   \n",
       "4                 -1          225    None                 B00037  13.800000   \n",
       "5                 -1           61    None                 B00037   8.966667   \n",
       "...              ...          ...     ...                    ...        ...   \n",
       "1037687           -1           31    None                 B01717  13.533333   \n",
       "1037688           -1          169    None                 B01717  11.466667   \n",
       "1037689           28          171    None        B03285           25.383333   \n",
       "1037690           16          252    None        B03285           18.050000   \n",
       "1037691          171          135    None        B03285           16.000000   \n",
       "\n",
       "                 ride_id  \n",
       "1              2022/02_1  \n",
       "2              2022/02_2  \n",
       "3              2022/02_3  \n",
       "4              2022/02_4  \n",
       "5              2022/02_5  \n",
       "...                  ...  \n",
       "1037687  2022/02_1037687  \n",
       "1037688  2022/02_1037688  \n",
       "1037689  2022/02_1037689  \n",
       "1037690  2022/02_1037690  \n",
       "1037691  2022/02_1037691  \n",
       "\n",
       "[990113 rows x 9 columns]"
      ]
     },
     "execution_count": 82,
     "metadata": {},
     "output_type": "execute_result"
    }
   ],
   "source": [
    "year = 2022\n",
    "month = 2\n",
    "df['ride_id'] = f'{year:04d}/{month:02d}_' + df.index.astype('str')\n",
    "df"
   ]
  },
  {
   "cell_type": "code",
   "execution_count": 83,
   "id": "3fecc90f",
   "metadata": {},
   "outputs": [
    {
     "data": {
      "text/html": [
       "<div>\n",
       "<style scoped>\n",
       "    .dataframe tbody tr th:only-of-type {\n",
       "        vertical-align: middle;\n",
       "    }\n",
       "\n",
       "    .dataframe tbody tr th {\n",
       "        vertical-align: top;\n",
       "    }\n",
       "\n",
       "    .dataframe thead th {\n",
       "        text-align: right;\n",
       "    }\n",
       "</style>\n",
       "<table border=\"1\" class=\"dataframe\">\n",
       "  <thead>\n",
       "    <tr style=\"text-align: right;\">\n",
       "      <th></th>\n",
       "      <th>ride_id</th>\n",
       "      <th>prediction</th>\n",
       "    </tr>\n",
       "  </thead>\n",
       "  <tbody>\n",
       "    <tr>\n",
       "      <th>1</th>\n",
       "      <td>2022/02_1</td>\n",
       "      <td>14.539865</td>\n",
       "    </tr>\n",
       "    <tr>\n",
       "      <th>2</th>\n",
       "      <td>2022/02_2</td>\n",
       "      <td>13.740422</td>\n",
       "    </tr>\n",
       "    <tr>\n",
       "      <th>3</th>\n",
       "      <td>2022/02_3</td>\n",
       "      <td>15.593339</td>\n",
       "    </tr>\n",
       "    <tr>\n",
       "      <th>4</th>\n",
       "      <td>2022/02_4</td>\n",
       "      <td>15.188118</td>\n",
       "    </tr>\n",
       "    <tr>\n",
       "      <th>5</th>\n",
       "      <td>2022/02_5</td>\n",
       "      <td>13.817206</td>\n",
       "    </tr>\n",
       "    <tr>\n",
       "      <th>...</th>\n",
       "      <td>...</td>\n",
       "      <td>...</td>\n",
       "    </tr>\n",
       "    <tr>\n",
       "      <th>1037687</th>\n",
       "      <td>2022/02_1037687</td>\n",
       "      <td>12.433246</td>\n",
       "    </tr>\n",
       "    <tr>\n",
       "      <th>1037688</th>\n",
       "      <td>2022/02_1037688</td>\n",
       "      <td>12.910885</td>\n",
       "    </tr>\n",
       "    <tr>\n",
       "      <th>1037689</th>\n",
       "      <td>2022/02_1037689</td>\n",
       "      <td>15.834923</td>\n",
       "    </tr>\n",
       "    <tr>\n",
       "      <th>1037690</th>\n",
       "      <td>2022/02_1037690</td>\n",
       "      <td>16.783176</td>\n",
       "    </tr>\n",
       "    <tr>\n",
       "      <th>1037691</th>\n",
       "      <td>2022/02_1037691</td>\n",
       "      <td>19.654626</td>\n",
       "    </tr>\n",
       "  </tbody>\n",
       "</table>\n",
       "<p>990113 rows × 2 columns</p>\n",
       "</div>"
      ],
      "text/plain": [
       "                 ride_id  prediction\n",
       "1              2022/02_1   14.539865\n",
       "2              2022/02_2   13.740422\n",
       "3              2022/02_3   15.593339\n",
       "4              2022/02_4   15.188118\n",
       "5              2022/02_5   13.817206\n",
       "...                  ...         ...\n",
       "1037687  2022/02_1037687   12.433246\n",
       "1037688  2022/02_1037688   12.910885\n",
       "1037689  2022/02_1037689   15.834923\n",
       "1037690  2022/02_1037690   16.783176\n",
       "1037691  2022/02_1037691   19.654626\n",
       "\n",
       "[990113 rows x 2 columns]"
      ]
     },
     "execution_count": 83,
     "metadata": {},
     "output_type": "execute_result"
    }
   ],
   "source": [
    "df_result = df[['ride_id']].copy()\n",
    "df_result['prediction'] = y_pred\n",
    "df_result"
   ]
  },
  {
   "cell_type": "code",
   "execution_count": 84,
   "id": "203eb1df",
   "metadata": {},
   "outputs": [],
   "source": [
    "df_result.to_parquet(\n",
    "    'fhv_tripdata_2022-02_ride_id_predictions.parquet',\n",
    "    engine='pyarrow',\n",
    "    compression=None,\n",
    "    index=False\n",
    ")"
   ]
  },
  {
   "cell_type": "code",
   "execution_count": 85,
   "id": "16f96d8a",
   "metadata": {},
   "outputs": [
    {
     "name": "stdout",
     "output_type": "stream",
     "text": [
      "total 19M\n",
      "-rw-rw-r-- 1 desenfirman desenfirman 241 Jun 25 21:14 Dockerfile\n",
      "-rw-rw-r-- 1 desenfirman desenfirman 19M Jun 25 21:25 fhv_tripdata_2022-02_ride_id_predictions.parquet\n",
      "-rw-rw-r-- 1 desenfirman desenfirman 18K Jun 25 18:34 model.bin\n",
      "-rw-rw-r-- 1 desenfirman desenfirman 188 Jun 25 21:24 Pipfile\n",
      "-rw-r--r-- 1 desenfirman desenfirman 18K Jun 25 21:24 Pipfile.lock\n",
      "-rw-rw-r-- 1 desenfirman desenfirman 35K Jun 25 21:13 starter.ipynb\n",
      "-rw-rw-r-- 1 desenfirman desenfirman 929 Jun 25 21:05 starter.py\n"
     ]
    }
   ],
   "source": [
    "!ls -lh"
   ]
  },
  {
   "cell_type": "markdown",
   "id": "1b120f2b",
   "metadata": {},
   "source": [
    "## Question 3"
   ]
  },
  {
   "cell_type": "code",
   "execution_count": 86,
   "id": "b81b1d9f",
   "metadata": {},
   "outputs": [
    {
     "name": "stdout",
     "output_type": "stream",
     "text": [
      "[NbConvertApp] Converting notebook starter.ipynb to script\n",
      "[NbConvertApp] Writing 2161 bytes to starter.py\n"
     ]
    }
   ],
   "source": [
    "!jupyter nbconvert --to script starter.ipynb"
   ]
  },
  {
   "cell_type": "markdown",
   "id": "0183f767",
   "metadata": {},
   "source": [
    "## Question 4"
   ]
  },
  {
   "cell_type": "code",
   "execution_count": 87,
   "id": "d1f43ef9",
   "metadata": {},
   "outputs": [
    {
     "name": "stdout",
     "output_type": "stream",
     "text": [
      "Requirement already satisfied: pipenv in /home/desenfirman/miniconda3/lib/python3.8/site-packages (2022.6.7)\n",
      "Requirement already satisfied: virtualenv-clone>=0.2.5 in /home/desenfirman/miniconda3/lib/python3.8/site-packages (from pipenv) (0.5.7)\n",
      "Requirement already satisfied: certifi in /home/desenfirman/miniconda3/lib/python3.8/site-packages (from pipenv) (2021.10.8)\n",
      "Requirement already satisfied: setuptools>=36.2.1 in /home/desenfirman/miniconda3/lib/python3.8/site-packages (from pipenv) (60.9.3)\n",
      "Requirement already satisfied: virtualenv in /home/desenfirman/miniconda3/lib/python3.8/site-packages (from pipenv) (20.14.1)\n",
      "Requirement already satisfied: pip>=22.0.4 in /home/desenfirman/miniconda3/lib/python3.8/site-packages (from pipenv) (22.0.4)\n",
      "Requirement already satisfied: platformdirs<3,>=2 in /home/desenfirman/miniconda3/lib/python3.8/site-packages (from virtualenv->pipenv) (2.5.1)\n",
      "Requirement already satisfied: distlib<1,>=0.3.1 in /home/desenfirman/miniconda3/lib/python3.8/site-packages (from virtualenv->pipenv) (0.3.4)\n",
      "Requirement already satisfied: six<2,>=1.9.0 in /home/desenfirman/miniconda3/lib/python3.8/site-packages (from virtualenv->pipenv) (1.16.0)\n",
      "Requirement already satisfied: filelock<4,>=3.2 in /home/desenfirman/miniconda3/lib/python3.8/site-packages (from virtualenv->pipenv) (3.7.1)\n",
      "\u001b[33mWARNING: You are using pip version 22.0.4; however, version 22.1.2 is available.\n",
      "You should consider upgrading via the '/home/desenfirman/miniconda3/bin/python3.8 -m pip install --upgrade pip' command.\u001b[0m\u001b[33m\n",
      "\u001b[0m"
     ]
    }
   ],
   "source": [
    "!pip install pipenv"
   ]
  },
  {
   "cell_type": "code",
   "execution_count": 97,
   "id": "b26b14c0",
   "metadata": {},
   "outputs": [
    {
     "name": "stdout",
     "output_type": "stream",
     "text": [
      "\u001b[39m\u001b[1mInstalling \u001b[32m\u001b[1mscikit-learn==1.0.2\u001b[39m\u001b[22m...\u001b[39m\u001b[22m\n",
      "\u001b[K\u001b[39m\u001b[1mAdding\u001b[39m\u001b[22m \u001b[32m\u001b[1mscikit-learn\u001b[39m\u001b[22m \u001b[39m\u001b[1mto Pipfile's\u001b[39m\u001b[22m \u001b[33m\u001b[1m[packages]\u001b[39m\u001b[22m\u001b[39m\u001b[1m...\u001b[39m\u001b[22m\n",
      "\u001b[K\u001b[?25h✔ Installation Succeeded\u001b[0m \n",
      "\u001b[39m\u001b[1mInstalling \u001b[32m\u001b[1mflask\u001b[39m\u001b[22m...\u001b[39m\u001b[22m\n",
      "\u001b[K\u001b[39m\u001b[1mAdding\u001b[39m\u001b[22m \u001b[32m\u001b[1mflask\u001b[39m\u001b[22m \u001b[39m\u001b[1mto Pipfile's\u001b[39m\u001b[22m \u001b[33m\u001b[1m[packages]\u001b[39m\u001b[22m\u001b[39m\u001b[1m...\u001b[39m\u001b[22m\n",
      "\u001b[K\u001b[?25h✔ Installation Succeeded\u001b[0m \n",
      "\u001b[39m\u001b[1mInstalling dependencies from Pipfile.lock (e37673)...\u001b[39m\u001b[22m\n",
      "  🐍   \u001b[32m\u001b[1m▉\u001b[39m\u001b[22m\u001b[32m\u001b[1m▉\u001b[39m\u001b[22m\u001b[32m\u001b[1m▉\u001b[39m\u001b[22m\u001b[32m\u001b[1m▉\u001b[39m\u001b[22m\u001b[32m\u001b[1m▉\u001b[39m\u001b[22m\u001b[32m\u001b[1m▉\u001b[39m\u001b[22m\u001b[32m\u001b[1m▉\u001b[39m\u001b[22m\u001b[32m\u001b[1m▉\u001b[39m\u001b[22m\u001b[32m\u001b[1m▉\u001b[39m\u001b[22m\u001b[32m\u001b[1m▉\u001b[39m\u001b[22m\u001b[32m\u001b[1m▉\u001b[39m\u001b[22m\u001b[32m\u001b[1m▉\u001b[39m\u001b[22m\u001b[32m\u001b[1m▉\u001b[39m\u001b[22m\u001b[32m\u001b[1m▉\u001b[39m\u001b[22m\u001b[32m\u001b[1m▉\u001b[39m\u001b[22m\u001b[32m\u001b[1m▉\u001b[39m\u001b[22m\u001b[32m\u001b[1m▉\u001b[39m\u001b[22m\u001b[32m\u001b[1m▉\u001b[39m\u001b[22m\u001b[32m\u001b[1m▉\u001b[39m\u001b[22m\u001b[32m\u001b[1m▉\u001b[39m\u001b[22m\u001b[32m\u001b[1m▉\u001b[39m\u001b[22m\u001b[32m\u001b[1m▉\u001b[39m\u001b[22m\u001b[32m\u001b[1m▉\u001b[39m\u001b[22m\u001b[32m\u001b[1m▉\u001b[39m\u001b[22m\u001b[32m\u001b[1m▉\u001b[39m\u001b[22m\u001b[32m\u001b[1m▉\u001b[39m\u001b[22m\u001b[32m\u001b[1m▉\u001b[39m\u001b[22m\u001b[32m\u001b[1m▉\u001b[39m\u001b[22m\u001b[32m\u001b[1m▉\u001b[39m\u001b[22m\u001b[32m\u001b[1m▉\u001b[39m\u001b[22m\u001b[32m\u001b[1m▉\u001b[39m\u001b[22m\u001b[32m\u001b[1m▉\u001b[39m\u001b[22m 0/0 — \u001b[30m\u001b[22m00:00:00\u001b[39m\u001b[22m\n",
      "To activate this project's virtualenv, run \u001b[33m\u001b[22mpipenv shell\u001b[39m\u001b[22m.\n",
      "Alternatively, run a command inside the virtualenv with \u001b[33m\u001b[22mpipenv run\u001b[39m\u001b[22m.\n",
      "\u001b[0m"
     ]
    }
   ],
   "source": [
    "!echo Y | pipenv install scikit-learn==1.0.2 flask --python=3.9 "
   ]
  },
  {
   "cell_type": "code",
   "execution_count": null,
   "id": "85a84219",
   "metadata": {},
   "outputs": [
    {
     "name": "stdout",
     "output_type": "stream",
     "text": [
      "        },\n",
      "        \"scikit-learn\": {\n",
      "            \"hashes\": [\n",
      "                \"sha256:08ef968f6b72033c16c479c966bf37ccd49b06ea91b765e1cc27afefe723920b\",\n",
      "                \"sha256:158faf30684c92a78e12da19c73feff9641a928a8024b4fa5ec11d583f3d8a87\",\n",
      "                \"sha256:16455ace947d8d9e5391435c2977178d0ff03a261571e67f627c8fee0f9d431a\",\n",
      "                \"sha256:245c9b5a67445f6f044411e16a93a554edc1efdcce94d3fc0bc6a4b9ac30b752\",\n",
      "                \"sha256:285db0352e635b9e3392b0b426bc48c3b485512d3b4ac3c7a44ec2a2ba061e66\",\n",
      "                \"sha256:2f3b453e0b149898577e301d27e098dfe1a36943f7bb0ad704d1e548efc3b448\",\n",
      "                \"sha256:46f431ec59dead665e1370314dbebc99ead05e1c0a9df42f22d6a0e00044820f\",\n",
      "                \"sha256:55f2f3a8414e14fbee03782f9fe16cca0f141d639d2b1c1a36779fa069e1db57\",\n",
      "                \"sha256:5cb33fe1dc6f73dc19e67b264dbb5dde2a0539b986435fdd78ed978c14654830\",\n",
      "                \"sha256:75307d9ea39236cad7eea87143155eea24d48f93f3a2f9389c817f7019f00705\",\n",
      "                \"sha256:7626a34eabbf370a638f32d1a3ad50526844ba58d63e3ab81ba91e2a7c6d037e\",\n",
      "                \"sha256:7a93c1292799620df90348800d5ac06f3794c1316ca247525fa31169f6d25855\",\n",
      "                \"sha256:7d6b2475f1c23a698b48515217eb26b45a6598c7b1840ba23b3c5acece658dbb\",\n",
      "                \"sha256:80095a1e4b93bd33261ef03b9bc86d6db649f988ea4dbcf7110d0cded8d7213d\",\n",
      "                \"sha256:85260fb430b795d806251dd3bb05e6f48cdc777ac31f2bcf2bc8bbed3270a8f5\",\n",
      "                \"sha256:9369b030e155f8188743eb4893ac17a27f81d28a884af460870c7c072f114243\",\n",
      "                \"sha256:a053a6a527c87c5c4fa7bf1ab2556fa16d8345cf99b6c5a19030a4a7cd8fd2c0\",\n",
      "                \"sha256:a90b60048f9ffdd962d2ad2fb16367a87ac34d76e02550968719eb7b5716fd10\",\n",
      "                \"sha256:a999c9f02ff9570c783069f1074f06fe7386ec65b84c983db5aeb8144356a355\",\n",
      "                \"sha256:b1391d1a6e2268485a63c3073111fe3ba6ec5145fc957481cfd0652be571226d\",\n",
      "                \"sha256:b54a62c6e318ddbfa7d22c383466d38d2ee770ebdb5ddb668d56a099f6eaf75f\",\n",
      "                \"sha256:b5870959a5484b614f26d31ca4c17524b1b0317522199dc985c3b4256e030767\",\n"
     ]
    }
   ],
   "source": [
    "!cat Pipfile.lock | tail -n +140 | head -n 25"
   ]
  },
  {
   "cell_type": "markdown",
   "id": "11fa5072",
   "metadata": {},
   "source": [
    "## Question 5"
   ]
  },
  {
   "cell_type": "code",
   "execution_count": 93,
   "id": "a6855302",
   "metadata": {},
   "outputs": [
    {
     "name": "stdout",
     "output_type": "stream",
     "text": [
      "#!/usr/bin/env python\n",
      "# coding: utf-8\n",
      "import pickle\n",
      "import sys\n",
      "import pandas as pd\n",
      "\n",
      "\n",
      "categorical = ['PUlocationID', 'DOlocationID']\n",
      "\n",
      "def read_data(filename):\n",
      "    df = pd.read_parquet(filename)\n",
      "    \n",
      "    df['duration'] = df.dropOff_datetime - df.pickup_datetime\n",
      "    df['duration'] = df.duration.dt.total_seconds() / 60\n",
      "\n",
      "    df = df[(df.duration >= 1) & (df.duration <= 60)].copy()\n",
      "\n",
      "    df[categorical] = df[categorical].fillna(-1).astype('int').astype('str')\n",
      "    \n",
      "    return df\n",
      "\n",
      "def run():\n",
      "    year = int(sys.argv[1]) # 2021\n",
      "    month = int(sys.argv[2]) # 3\n",
      "    with open('model.bin', 'rb') as f_in:\n",
      "        dv, lr = pickle.load(f_in)\n",
      "\n",
      "\n",
      "    df = read_data(f'https://nyc-tlc.s3.amazonaws.com/trip+data/fhv_tripdata_{year:04d}-{month:02d}.parquet')\n",
      "\n",
      "\n",
      "    dicts = df[categorical].to_dict(orient='records')\n",
      "    X_val = dv.transform(dicts)\n",
      "    y_pred = lr.predict(X_val)\n",
      "\n",
      "\n",
      "    print(y_pred.mean())\n",
      "\n",
      "\n",
      "if __name__ == '__main__':\n",
      "    run()"
     ]
    }
   ],
   "source": [
    "!cat starter.py"
   ]
  },
  {
   "cell_type": "code",
   "execution_count": 94,
   "id": "db09d3bc",
   "metadata": {},
   "outputs": [
    {
     "name": "stdout",
     "output_type": "stream",
     "text": [
      "16.298821614015107\n"
     ]
    }
   ],
   "source": [
    "!python starter.py 2021 3"
   ]
  },
  {
   "cell_type": "markdown",
   "id": "da322de5",
   "metadata": {},
   "source": [
    "## Question 6"
   ]
  },
  {
   "cell_type": "code",
   "execution_count": 98,
   "id": "6ec49f1a",
   "metadata": {},
   "outputs": [
    {
     "name": "stdout",
     "output_type": "stream",
     "text": [
      "\u001b[39m\u001b[1mInstalling \u001b[32m\u001b[1mpandas\u001b[39m\u001b[22m...\u001b[39m\u001b[22m\n",
      "\u001b[K\u001b[39m\u001b[1mAdding\u001b[39m\u001b[22m \u001b[32m\u001b[1mpandas\u001b[39m\u001b[22m \u001b[39m\u001b[1mto Pipfile's\u001b[39m\u001b[22m \u001b[33m\u001b[1m[packages]\u001b[39m\u001b[22m\u001b[39m\u001b[1m...\u001b[39m\u001b[22m\n",
      "\u001b[K\u001b[?25h✔ Installation Succeeded\u001b[0m \n",
      "\u001b[39m\u001b[1mInstalling \u001b[32m\u001b[1mpyarrow\u001b[39m\u001b[22m...\u001b[39m\u001b[22m\n",
      "⠧\u001b[0m Installing pyarrow...\u001b[K"
     ]
    }
   ],
   "source": [
    "!pipenv install pandas pyarrow"
   ]
  },
  {
   "cell_type": "code",
   "execution_count": 89,
   "id": "8d6eaaa9",
   "metadata": {},
   "outputs": [
    {
     "name": "stdout",
     "output_type": "stream",
     "text": [
      "[[source]]\n",
      "url = \"https://pypi.org/simple\"\n",
      "verify_ssl = true\n",
      "name = \"pypi\"\n",
      "\n",
      "[packages]\n",
      "scikit-learn = \"==1.0.2\"\n",
      "flask = \"*\"\n",
      "pandas = \"*\"\n",
      "\n",
      "[dev-packages]\n",
      "\n",
      "[requires]\n",
      "python_version = \"3.9\"\n"
     ]
    }
   ],
   "source": [
    "!cat Pipfile"
   ]
  },
  {
   "cell_type": "code",
   "execution_count": 90,
   "id": "6359e2cc",
   "metadata": {},
   "outputs": [
    {
     "name": "stdout",
     "output_type": "stream",
     "text": [
      "FROM agrigorev/zoomcamp-model:mlops-3.9.7-slim\n",
      "\n",
      "RUN pip install -U pip\n",
      "RUN pip install pipenv \n",
      "\n",
      "COPY [ \"Pipfile\", \"Pipfile.lock\", \"./\" ]\n",
      "\n",
      "RUN pipenv install --system --deploy\n",
      "\n",
      "COPY starter.py starter.py\n",
      "\n",
      "ENTRYPOINT [ \"python\", \"starter.py\" ]"
     ]
    }
   ],
   "source": [
    "!cat Dockerfile"
   ]
  },
  {
   "cell_type": "code",
   "execution_count": 95,
   "id": "759274d4",
   "metadata": {},
   "outputs": [
    {
     "name": "stdout",
     "output_type": "stream",
     "text": [
      "Sending build context to Docker daemon  19.79MB\n",
      "Step 1/7 : FROM agrigorev/zoomcamp-model:mlops-3.9.7-slim\n",
      " ---> 8cffad87c549\n",
      "Step 2/7 : RUN pip install -U pip\n",
      " ---> Using cache\n",
      " ---> 1f991134873e\n",
      "Step 3/7 : RUN pip install pipenv\n",
      " ---> Using cache\n",
      " ---> 5ba9bad5e3bc\n",
      "Step 4/7 : COPY [ \"Pipfile\", \"Pipfile.lock\", \"./\" ]\n",
      " ---> Using cache\n",
      " ---> 725ff7c5afab\n",
      "Step 5/7 : RUN pipenv install --system --deploy\n",
      " ---> Using cache\n",
      " ---> baca3aac4015\n",
      "Step 6/7 : COPY starter.py starter.py\n",
      " ---> 9a043f2c6931\n",
      "Step 7/7 : ENTRYPOINT [ \"python\", \"starter.py\" ]\n",
      " ---> Running in c05b494dd236\n",
      "Removing intermediate container c05b494dd236\n",
      " ---> 4db96f537f1c\n",
      "Successfully built 4db96f537f1c\n",
      "Successfully tagged mlopszoomcamp-test-starter:latest\n"
     ]
    }
   ],
   "source": [
    "!docker build -t mlopszoomcamp-test-starter ."
   ]
  },
  {
   "cell_type": "code",
   "execution_count": 96,
   "id": "56697619",
   "metadata": {},
   "outputs": [
    {
     "name": "stdout",
     "output_type": "stream",
     "text": [
      "Traceback (most recent call last):\n",
      "  File \"/app/starter.py\", line 41, in <module>\n",
      "    run()\n",
      "  File \"/app/starter.py\", line 29, in run\n",
      "    df = read_data(f'https://nyc-tlc.s3.amazonaws.com/trip+data/fhv_tripdata_{year:04d}-{month:02d}.parquet')\n",
      "  File \"/app/starter.py\", line 11, in read_data\n",
      "    df = pd.read_parquet(filename)\n",
      "  File \"/usr/local/lib/python3.9/site-packages/pandas/io/parquet.py\", line 491, in read_parquet\n",
      "    impl = get_engine(engine)\n",
      "  File \"/usr/local/lib/python3.9/site-packages/pandas/io/parquet.py\", line 52, in get_engine\n",
      "    raise ImportError(\n",
      "ImportError: Unable to find a usable engine; tried using: 'pyarrow', 'fastparquet'.\n",
      "A suitable version of pyarrow or fastparquet is required for parquet support.\n",
      "Trying to import the above resulted in these errors:\n",
      " - Missing optional dependency 'pyarrow'. pyarrow is required for parquet support. Use pip or conda to install pyarrow.\n",
      " - Missing optional dependency 'fastparquet'. fastparquet is required for parquet support. Use pip or conda to install fastparquet.\n"
     ]
    }
   ],
   "source": [
    "!docker run -t mlopszoomcamp-test-starter 2021 4"
   ]
  },
  {
   "cell_type": "code",
   "execution_count": null,
   "id": "1dcc1570",
   "metadata": {},
   "outputs": [],
   "source": []
  }
 ],
 "metadata": {
  "interpreter": {
   "hash": "0adcd6bd7c2b856ae1f1ae6f2caf69728be297e6a0b21596dbacb1a3f7a486f5"
  },
  "kernelspec": {
   "display_name": "Python 3.8.12 ('base')",
   "language": "python",
   "name": "python3"
  },
  "language_info": {
   "codemirror_mode": {
    "name": "ipython",
    "version": 3
   },
   "file_extension": ".py",
   "mimetype": "text/x-python",
   "name": "python",
   "nbconvert_exporter": "python",
   "pygments_lexer": "ipython3",
   "version": "3.8.12"
  }
 },
 "nbformat": 4,
 "nbformat_minor": 5
}
