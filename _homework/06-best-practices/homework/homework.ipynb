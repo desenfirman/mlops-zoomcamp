{
 "cells": [
  {
   "cell_type": "markdown",
   "metadata": {},
   "source": [
    "# Homework 6: Best Practices\n",
    "\n",
    "Check up: starter code"
   ]
  },
  {
   "cell_type": "code",
   "execution_count": 2,
   "metadata": {},
   "outputs": [
    {
     "name": "stdout",
     "output_type": "stream",
     "text": [
      "total 88\n",
      "-rw-rw-r-- 1 desenfirman desenfirman  1285 Jul 31 23:12 batch.py\n",
      "-rw-rw-r-- 1 desenfirman desenfirman   268 Jul 31 23:12 Dockerfile\n",
      "-rw-rw-r-- 1 desenfirman desenfirman   367 Jul 31 23:15 homework.ipynb\n",
      "-rw-rw-r-- 1 desenfirman desenfirman 17760 Jul 31 23:12 model.bin\n",
      "-rw-rw-r-- 1 desenfirman desenfirman   201 Jul 31 23:12 Pipfile\n",
      "-rw-rw-r-- 1 desenfirman desenfirman 49540 Jul 31 23:12 Pipfile.lock\n"
     ]
    }
   ],
   "source": [
    "!ls -l"
   ]
  },
  {
   "cell_type": "markdown",
   "metadata": {},
   "source": [
    "## Question 1: Refactoring"
   ]
  },
  {
   "cell_type": "code",
   "execution_count": 8,
   "metadata": {},
   "outputs": [
    {
     "name": "stdout",
     "output_type": "stream",
     "text": [
      "def main(year, month, input_file, output_file):\n",
      "    categorical = ['PUlocationID', 'DOlocationID']\n",
      "    df = read_data(input_file, categorical=categorical)\n",
      "\n",
      "    df['ride_id'] = f'{year:04d}/{month:02d}_' + df.index.astype('str')\n",
      "\n",
      "\n",
      "    dicts = df[categorical].to_dict(orient='records')\n",
      "    X_val = dv.transform(dicts)\n",
      "    y_pred = lr.predict(X_val)\n",
      "\n",
      "\n",
      "    print('predicted mean duration:', y_pred.mean())\n",
      "\n",
      "\n",
      "    df_result = pd.DataFrame()\n",
      "    df_result['ride_id'] = df['ride_id']\n",
      "    df_result['predicted_duration'] = y_pred\n",
      "\n",
      "    df_result.to_parquet(output_file, engine='pyarrow', index=False)\n",
      "\n",
      "\n",
      "if __name__ == '__main__':\n",
      "    year = int(sys.argv[1])\n",
      "    month = int(sys.argv[2])\n",
      "    input_file = f'https://raw.githubusercontent.com/alexeygrigorev/datasets/master/nyc-tlc/fhv/fhv_tripdata_{year:04d}-{month:02d}.parquet'\n",
      "    output_file = f'./taxi_type=fhv_year={year:04d}_month={month:02d}_predictions.parquet'\n",
      "    main(year, month, input_file, output_file)\n"
     ]
    }
   ],
   "source": [
    "!cat ./batch.py | tail -n +32 | head -n 60"
   ]
  },
  {
   "cell_type": "code",
   "execution_count": 9,
   "metadata": {},
   "outputs": [
    {
     "name": "stdout",
     "output_type": "stream",
     "text": [
      "predicted mean duration: 16.191691679979066\n"
     ]
    }
   ],
   "source": [
    "!python batch.py 2021 02"
   ]
  },
  {
   "cell_type": "code",
   "execution_count": 16,
   "metadata": {},
   "outputs": [
    {
     "name": "stdout",
     "output_type": "stream",
     "text": [
      " batch.py\t  Pipfile\n",
      " Dockerfile\t  Pipfile.lock\n",
      " homework.ipynb  'taxi_type=fhv_year=2021_month=02_predictions.parquet'\n",
      " model.bin\n"
     ]
    }
   ],
   "source": [
    "!ls"
   ]
  },
  {
   "cell_type": "markdown",
   "metadata": {},
   "source": [
    "## Question 2: Installing pytest\n"
   ]
  },
  {
   "cell_type": "code",
   "execution_count": 17,
   "metadata": {},
   "outputs": [
    {
     "name": "stdout",
     "output_type": "stream",
     "text": [
      "\u001b[39m\u001b[1mCreating a virtualenv for this project...\u001b[39m\u001b[22m\n",
      "Pipfile: \u001b[33m\u001b[1m/home/desenfirman/development/mlops-zoomcamp/_homework/06-best-practices/homework/Pipfile\u001b[39m\u001b[22m\n",
      "\u001b[39m\u001b[1mUsing\u001b[39m\u001b[22m \u001b[33m\u001b[1m/home/desenfirman/.pyenv/versions/3.9.9/bin/python3.9\u001b[39m\u001b[22m \u001b[32m\u001b[22m(3.9.9)\u001b[39m\u001b[22m \u001b[39m\u001b[1mto create virtualenv...\u001b[39m\u001b[22m\n",
      "⠼\u001b[0m Creating virtual environment...\u001b[K\u001b[36m\u001b[22mcreated virtual environment CPython3.9.9.final.0-64 in 1896ms\n",
      "  creator CPython3Posix(dest=/home/desenfirman/.local/share/virtualenvs/homework-GkJuXekF, clear=False, no_vcs_ignore=False, global=False)\n",
      "  seeder FromAppData(download=False, pip=bundle, setuptools=bundle, wheel=bundle, via=copy, app_data_dir=/home/desenfirman/.local/share/virtualenv)\n",
      "    added seed packages: pip==22.0.4, setuptools==62.1.0, wheel==0.37.1\n",
      "  activators BashActivator,CShellActivator,FishActivator,NushellActivator,PowerShellActivator,PythonActivator\n",
      "\u001b[39m\u001b[22m\n",
      "\u001b[K\u001b[?25h\u001b[32m\u001b[22m✔ Successfully created virtual environment!\u001b[39m\u001b[22m\u001b[0m \n",
      "Virtualenv location: \u001b[32m\u001b[22m/home/desenfirman/.local/share/virtualenvs/homework-GkJuXekF\u001b[39m\u001b[22m\n",
      "\u001b[39m\u001b[1mInstalling \u001b[32m\u001b[1mpytest\u001b[39m\u001b[22m...\u001b[39m\u001b[22m\n",
      "\u001b[K\u001b[39m\u001b[1mAdding\u001b[39m\u001b[22m \u001b[32m\u001b[1mpytest\u001b[39m\u001b[22m \u001b[39m\u001b[1mto Pipfile's\u001b[39m\u001b[22m \u001b[33m\u001b[1m[dev-packages]\u001b[39m\u001b[22m\u001b[39m\u001b[1m...\u001b[39m\u001b[22m\n",
      "\u001b[K\u001b[?25h✔ Installation Succeeded\u001b[0m \n",
      "\u001b[33m\u001b[1mPipfile.lock (fdbbb0) out of date, updating to (0c8791)...\u001b[39m\u001b[22m\n",
      "\u001b[39m\u001b[22mLocking\u001b[39m\u001b[22m \u001b[33m\u001b[22m[dev-packages]\u001b[39m\u001b[22m \u001b[39m\u001b[22mdependencies...\u001b[39m\u001b[22m\n",
      "\u001b[KBuilding requirements...\n",
      "\u001b[KResolving dependencies...\n",
      "\u001b[K\u001b[?25h\u001b[32m\u001b[22m✔ Success!\u001b[39m\u001b[22m\u001b[0m \n",
      "\u001b[39m\u001b[22mLocking\u001b[39m\u001b[22m \u001b[33m\u001b[22m[packages]\u001b[39m\u001b[22m \u001b[39m\u001b[22mdependencies...\u001b[39m\u001b[22m\n",
      "\u001b[KBuilding requirements...\n",
      "\u001b[KResolving dependencies...\n",
      "\u001b[K\u001b[?25h\u001b[32m\u001b[22m✔ Success!\u001b[39m\u001b[22m\u001b[0m \n",
      "\u001b[39m\u001b[1mUpdated Pipfile.lock (0c8791)!\u001b[39m\u001b[22m\n",
      "\u001b[39m\u001b[1mInstalling dependencies from Pipfile.lock (0c8791)...\u001b[39m\u001b[22m\n",
      "  🐍   \u001b[32m\u001b[1m▉\u001b[39m\u001b[22m\u001b[32m\u001b[1m▉\u001b[39m\u001b[22m\u001b[32m\u001b[1m▉\u001b[39m\u001b[22m\u001b[32m\u001b[1m▉\u001b[39m\u001b[22m\u001b[32m\u001b[1m▉\u001b[39m\u001b[22m\u001b[32m\u001b[1m▉\u001b[39m\u001b[22m\u001b[32m\u001b[1m▉\u001b[39m\u001b[22m\u001b[32m\u001b[1m▉\u001b[39m\u001b[22m\u001b[32m\u001b[1m▉\u001b[39m\u001b[22m\u001b[32m\u001b[1m▉\u001b[39m\u001b[22m\u001b[32m\u001b[1m▉\u001b[39m\u001b[22m\u001b[32m\u001b[1m▉\u001b[39m\u001b[22m\u001b[32m\u001b[1m▉\u001b[39m\u001b[22m\u001b[32m\u001b[1m▉\u001b[39m\u001b[22m\u001b[32m\u001b[1m▉\u001b[39m\u001b[22m\u001b[32m\u001b[1m▉\u001b[39m\u001b[22m\u001b[32m\u001b[1m▉\u001b[39m\u001b[22m\u001b[32m\u001b[1m▉\u001b[39m\u001b[22m\u001b[32m\u001b[1m▉\u001b[39m\u001b[22m\u001b[32m\u001b[1m▉\u001b[39m\u001b[22m\u001b[32m\u001b[1m▉\u001b[39m\u001b[22m\u001b[32m\u001b[1m▉\u001b[39m\u001b[22m\u001b[32m\u001b[1m▉\u001b[39m\u001b[22m\u001b[32m\u001b[1m▉\u001b[39m\u001b[22m\u001b[32m\u001b[1m▉\u001b[39m\u001b[22m\u001b[32m\u001b[1m▉\u001b[39m\u001b[22m\u001b[32m\u001b[1m▉\u001b[39m\u001b[22m\u001b[32m\u001b[1m▉\u001b[39m\u001b[22m\u001b[32m\u001b[1m▉\u001b[39m\u001b[22m\u001b[32m\u001b[1m▉\u001b[39m\u001b[22m\u001b[32m\u001b[1m▉\u001b[39m\u001b[22m\u001b[32m\u001b[1m▉\u001b[39m\u001b[22m 27/27 — \u001b[30m\u001b[22m00:01:29\u001b[39m\u001b[22m2mmmmm2mmmmm2mmmmmm2mmmm2mmmmmm\n",
      "To activate this project's virtualenv, run \u001b[33m\u001b[22mpipenv shell\u001b[39m\u001b[22m.\n",
      "Alternatively, run a command inside the virtualenv with \u001b[33m\u001b[22mpipenv run\u001b[39m\u001b[22m.\n",
      "\u001b[0m"
     ]
    }
   ],
   "source": [
    "!pipenv install --dev pytest"
   ]
  },
  {
   "cell_type": "code",
   "execution_count": 1,
   "metadata": {},
   "outputs": [],
   "source": [
    "!mkdir tests && touch tests/test_batch.py && touch tests/__init__.py"
   ]
  },
  {
   "cell_type": "markdown",
   "metadata": {},
   "source": [
    "## Question 3: Writing first unit test"
   ]
  },
  {
   "cell_type": "code",
   "execution_count": 14,
   "metadata": {},
   "outputs": [
    {
     "name": "stdout",
     "output_type": "stream",
     "text": [
      "import pandas as pd\n",
      "from datetime import datetime\n",
      "from batch import prepare_data\n",
      "\n",
      "def dt(hour, minute, second=0):\n",
      "    return datetime(2021, 1, 1, hour, minute, second)\n",
      "\n",
      "\n",
      "def test_prepare_data():\n",
      "    data = [\n",
      "        (None, None, dt(1, 2), dt(1, 10)),\n",
      "        (1, 1, dt(1, 2), dt(1, 10)),\n",
      "        (1, 1, dt(1, 2, 0), dt(1, 2, 50)),\n",
      "        (1, 1, dt(1, 2, 0), dt(2, 2, 1)),        \n",
      "    ]\n",
      "\n",
      "    excepted_row_count = 2\n",
      "\n",
      "    columns = ['PUlocationID', 'DOlocationID', 'pickup_datetime', 'dropOff_datetime']\n",
      "    df = pd.DataFrame(data, columns=columns)\n",
      "    df = prepare_data(df, categorical=['PUlocationID', 'DOlocationID'])\n",
      "    assert df.shape[0] == excepted_row_count"
     ]
    }
   ],
   "source": [
    "!cat tests/test_batch.py "
   ]
  },
  {
   "cell_type": "code",
   "execution_count": 15,
   "metadata": {},
   "outputs": [
    {
     "name": "stdout",
     "output_type": "stream",
     "text": [
      "\u001b[1m============================= test session starts ==============================\u001b[0m\n",
      "platform linux -- Python 3.8.12, pytest-6.2.5, py-1.11.0, pluggy-1.0.0\n",
      "rootdir: /home/desenfirman/development/mlops-zoomcamp/_homework/06-best-practices/homework\n",
      "plugins: cov-3.0.0, anyio-3.5.0, mock-1.13.0\n",
      "collected 1 item                                                               \u001b[0m\u001b[1m\n",
      "\n",
      "tests/test_batch.py \u001b[32m.\u001b[0m\u001b[32m                                                    [100%]\u001b[0m\n",
      "\n",
      "\u001b[32m============================== \u001b[32m\u001b[1m1 passed\u001b[0m\u001b[32m in 2.13s\u001b[0m\u001b[32m ===============================\u001b[0m\n"
     ]
    }
   ],
   "source": [
    "!pytest "
   ]
  },
  {
   "cell_type": "code",
   "execution_count": null,
   "metadata": {},
   "outputs": [],
   "source": []
  }
 ],
 "metadata": {
  "interpreter": {
   "hash": "4d5995ed82e90970cfbd05d7c720592fc23fc0068afc9539eceb3b7ba6bc3b05"
  },
  "kernelspec": {
   "display_name": "Python 3.9.9 ('homework-K8lGC4PZ')",
   "language": "python",
   "name": "python3"
  },
  "language_info": {
   "codemirror_mode": {
    "name": "ipython",
    "version": 3
   },
   "file_extension": ".py",
   "mimetype": "text/x-python",
   "name": "python",
   "nbconvert_exporter": "python",
   "pygments_lexer": "ipython3",
   "version": "3.9.9"
  },
  "orig_nbformat": 4
 },
 "nbformat": 4,
 "nbformat_minor": 2
}
