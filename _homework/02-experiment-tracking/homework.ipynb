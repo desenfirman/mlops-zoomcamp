{
 "cells": [
  {
   "cell_type": "markdown",
   "metadata": {},
   "source": [
    "## Question 1"
   ]
  },
  {
   "cell_type": "code",
   "execution_count": 1,
   "metadata": {},
   "outputs": [
    {
     "name": "stdout",
     "output_type": "stream",
     "text": [
      "mlflow, version 1.26.1\n"
     ]
    }
   ],
   "source": [
    "!mlflow --version"
   ]
  },
  {
   "cell_type": "markdown",
   "metadata": {},
   "source": [
    "## Question 2\n",
    "\n",
    "Download the file"
   ]
  },
  {
   "cell_type": "code",
   "execution_count": 2,
   "metadata": {},
   "outputs": [
    {
     "name": "stdout",
     "output_type": "stream",
     "text": [
      "--2022-05-30 18:45:26--  https://s3.amazonaws.com/nyc-tlc/trip+data/green_tripdata_2021-01.parquet\n",
      "Resolving s3.amazonaws.com (s3.amazonaws.com)... 52.217.200.72\n",
      "Connecting to s3.amazonaws.com (s3.amazonaws.com)|52.217.200.72|:443... connected.\n",
      "HTTP request sent, awaiting response... 200 OK\n",
      "Length: 1333519 (1.3M) [binary/octet-stream]\n",
      "Saving to: ‘./data/green_tripdata_2021-01.parquet’\n",
      "\n",
      "./data/green_tripda 100%[===================>]   1.27M   516KB/s    in 2.5s    \n",
      "\n",
      "2022-05-30 18:45:30 (516 KB/s) - ‘./data/green_tripdata_2021-01.parquet’ saved [1333519/1333519]\n",
      "\n",
      "--2022-05-30 18:45:31--  https://s3.amazonaws.com/nyc-tlc/trip+data/green_tripdata_2021-02.parquet\n",
      "Resolving s3.amazonaws.com (s3.amazonaws.com)... 52.216.137.174\n",
      "Connecting to s3.amazonaws.com (s3.amazonaws.com)|52.216.137.174|:443... connected.\n",
      "HTTP request sent, awaiting response... 200 OK\n",
      "Length: 1145679 (1.1M) [binary/octet-stream]\n",
      "Saving to: ‘./data/green_tripdata_2021-02.parquet’\n",
      "\n",
      "./data/green_tripda 100%[===================>]   1.09M   132KB/s    in 8.5s    \n",
      "\n",
      "2022-05-30 18:45:41 (132 KB/s) - ‘./data/green_tripdata_2021-02.parquet’ saved [1145679/1145679]\n",
      "\n",
      "--2022-05-30 18:45:41--  https://s3.amazonaws.com/nyc-tlc/trip+data/green_tripdata_2021-03.parquet\n",
      "Resolving s3.amazonaws.com (s3.amazonaws.com)... 52.217.110.54\n",
      "Connecting to s3.amazonaws.com (s3.amazonaws.com)|52.217.110.54|:443... connected.\n",
      "HTTP request sent, awaiting response... 200 OK\n",
      "Length: 1474538 (1.4M) [binary/octet-stream]\n",
      "Saving to: ‘./data/green_tripdata_2021-03.parquet’\n",
      "\n",
      "./data/green_tripda 100%[===================>]   1.41M   505KB/s    in 2.9s    \n",
      "\n",
      "2022-05-30 18:45:46 (505 KB/s) - ‘./data/green_tripdata_2021-03.parquet’ saved [1474538/1474538]\n",
      "\n"
     ]
    }
   ],
   "source": [
    "!wget -O \"./data/green_tripdata_2021-01.parquet\" \"https://s3.amazonaws.com/nyc-tlc/trip+data/green_tripdata_2021-01.parquet\"\n",
    "!wget -O \"./data/green_tripdata_2021-02.parquet\" \"https://s3.amazonaws.com/nyc-tlc/trip+data/green_tripdata_2021-02.parquet\"\n",
    "!wget -O \"./data/green_tripdata_2021-03.parquet\" \"https://s3.amazonaws.com/nyc-tlc/trip+data/green_tripdata_2021-03.parquet\""
   ]
  },
  {
   "cell_type": "code",
   "execution_count": 5,
   "metadata": {},
   "outputs": [
    {
     "name": "stdout",
     "output_type": "stream",
     "text": [
      "mkdir: cannot create directory ‘./output’: File exists\n"
     ]
    }
   ],
   "source": [
    "!mkdir ./output\n",
    "!python preprocess_data.py --raw_data_path ./data --dest_path ./output"
   ]
  },
  {
   "cell_type": "code",
   "execution_count": 6,
   "metadata": {},
   "outputs": [
    {
     "name": "stdout",
     "output_type": "stream",
     "text": [
      "dv.pkl\ttest.pkl  train.pkl  valid.pkl\n"
     ]
    }
   ],
   "source": [
    "!ls ./output"
   ]
  },
  {
   "cell_type": "markdown",
   "metadata": {},
   "source": [
    "## Question 3\n",
    "\n",
    "First run test"
   ]
  },
  {
   "cell_type": "code",
   "execution_count": 7,
   "metadata": {},
   "outputs": [],
   "source": [
    "!python train.py"
   ]
  },
  {
   "cell_type": "markdown",
   "metadata": {},
   "source": [
    "Second run (with `mlflow.start_run()` and `mlflow.autolog()`) "
   ]
  },
  {
   "cell_type": "code",
   "execution_count": 11,
   "metadata": {},
   "outputs": [
    {
     "name": "stdout",
     "output_type": "stream",
     "text": [
      "2022/05/30 19:05:57 INFO mlflow.tracking.fluent: Autologging successfully enabled for sklearn.\n"
     ]
    }
   ],
   "source": [
    "!python train.py"
   ]
  },
  {
   "cell_type": "code",
   "execution_count": 13,
   "metadata": {},
   "outputs": [
    {
     "name": "stdout",
     "output_type": "stream",
     "text": [
      "bootstrap     max_leaf_nodes         min_weight_fraction_leaf  verbose\n",
      "ccp_alpha     max_samples            n_estimators              warm_start\n",
      "criterion     min_impurity_decrease  n_jobs\n",
      "max_depth     min_samples_leaf       oob_score\n",
      "max_features  min_samples_split      random_state\n"
     ]
    }
   ],
   "source": [
    "ls ./mlruns/0/*/params"
   ]
  },
  {
   "cell_type": "markdown",
   "metadata": {},
   "source": [
    "## Question 4"
   ]
  },
  {
   "cell_type": "code",
   "execution_count": 17,
   "metadata": {},
   "outputs": [
    {
     "name": "stdout",
     "output_type": "stream",
     "text": [
      "[2022-05-30 19:11:13 +0700] [27707] [INFO] Starting gunicorn 20.1.0\n",
      "[2022-05-30 19:11:13 +0700] [27707] [INFO] Listening at: http://127.0.0.1:5000 (27707)\n",
      "[2022-05-30 19:11:13 +0700] [27707] [INFO] Using worker: sync\n",
      "[2022-05-30 19:11:13 +0700] [27712] [INFO] Booting worker with pid: 27712\n",
      "[2022-05-30 19:11:13 +0700] [27713] [INFO] Booting worker with pid: 27713\n",
      "[2022-05-30 19:11:13 +0700] [27714] [INFO] Booting worker with pid: 27714\n",
      "[2022-05-30 19:11:13 +0700] [27715] [INFO] Booting worker with pid: 27715\n",
      "^C\n",
      "[2022-05-30 19:11:56 +0700] [27707] [INFO] Handling signal: int\n",
      "[2022-05-30 19:11:56 +0700] [27713] [INFO] Worker exiting (pid: 27713)\n",
      "[2022-05-30 19:11:56 +0700] [27715] [INFO] Worker exiting (pid: 27715)\n",
      "[2022-05-30 19:11:56 +0700] [27714] [INFO] Worker exiting (pid: 27714)\n",
      "[2022-05-30 19:11:56 +0700] [27712] [INFO] Worker exiting (pid: 27712)\n"
     ]
    }
   ],
   "source": [
    "!mlflow server --backend-store-uri sqlite:///mydb.sqlite --default-artifact-root ./artifacts"
   ]
  },
  {
   "cell_type": "markdown",
   "metadata": {},
   "source": [
    "## Question 5"
   ]
  },
  {
   "cell_type": "code",
   "execution_count": 19,
   "metadata": {},
   "outputs": [
    {
     "name": "stdout",
     "output_type": "stream",
     "text": [
      "Collecting hyperopt\n",
      "  Downloading hyperopt-0.2.7-py2.py3-none-any.whl (1.6 MB)\n",
      "\u001b[K     |████████████████████████████████| 1.6 MB 1.0 MB/s eta 0:00:01\n",
      "\u001b[?25hRequirement already satisfied: scipy in ./venv/lib/python3.8/site-packages (from hyperopt) (1.8.1)\n",
      "Collecting networkx>=2.2\n",
      "  Downloading networkx-2.8.2-py3-none-any.whl (2.0 MB)\n",
      "\u001b[K     |████████████████████████████████| 2.0 MB 4.1 MB/s eta 0:00:01\n",
      "\u001b[?25hCollecting py4j\n",
      "  Downloading py4j-0.10.9.5-py2.py3-none-any.whl (199 kB)\n",
      "\u001b[K     |████████████████████████████████| 199 kB 7.0 MB/s eta 0:00:01\n",
      "\u001b[?25hCollecting future\n",
      "  Using cached future-0.18.2-py3-none-any.whl\n",
      "Collecting tqdm\n",
      "  Using cached tqdm-4.64.0-py2.py3-none-any.whl (78 kB)\n",
      "Requirement already satisfied: cloudpickle in ./venv/lib/python3.8/site-packages (from hyperopt) (2.1.0)\n",
      "Requirement already satisfied: six in ./venv/lib/python3.8/site-packages (from hyperopt) (1.16.0)\n",
      "Requirement already satisfied: numpy in ./venv/lib/python3.8/site-packages (from hyperopt) (1.22.4)\n",
      "Installing collected packages: tqdm, py4j, networkx, future, hyperopt\n",
      "Successfully installed future-0.18.2 hyperopt-0.2.7 networkx-2.8.2 py4j-0.10.9.5 tqdm-4.64.0\n",
      "\u001b[33mWARNING: You are using pip version 21.1.1; however, version 22.1.1 is available.\n",
      "You should consider upgrading via the '/home/desenfirman/development/mlops-zoomcamp/_homework/02-experiment-tracking/venv/bin/python -m pip install --upgrade pip' command.\u001b[0m\n"
     ]
    }
   ],
   "source": [
    "!pip install hyperopt"
   ]
  },
  {
   "cell_type": "code",
   "execution_count": 28,
   "metadata": {},
   "outputs": [
    {
     "name": "stdout",
     "output_type": "stream",
     "text": [
      "2022/05/30 19:34:06 INFO mlflow.tracking.fluent: Experiment with name 'random-forest-hyperopt' does not exist. Creating a new experiment.\n",
      "100%|█████████| 50/50 [11:41<00:00, 14.04s/trial, best loss: 6.6284257482044735]\n"
     ]
    }
   ],
   "source": [
    "!python hpo.py"
   ]
  },
  {
   "cell_type": "markdown",
   "metadata": {},
   "source": [
    "## Question 6\n",
    "\n",
    "First run test of `register_model.py`"
   ]
  },
  {
   "cell_type": "code",
   "execution_count": 29,
   "metadata": {},
   "outputs": [
    {
     "name": "stdout",
     "output_type": "stream",
     "text": [
      "2022/05/30 19:59:09 INFO mlflow.tracking.fluent: Experiment with name 'random-forest-best-models' does not exist. Creating a new experiment.\n"
     ]
    }
   ],
   "source": [
    "!python register_model.py"
   ]
  },
  {
   "cell_type": "markdown",
   "metadata": {},
   "source": [
    "After modify the `register_model.py` code (by search lowest `test_rmse` value and register the model)"
   ]
  },
  {
   "cell_type": "code",
   "execution_count": 31,
   "metadata": {},
   "outputs": [
    {
     "name": "stdout",
     "output_type": "stream",
     "text": [
      "Successfully registered model 'random-forest-best-model'.\n",
      "2022/05/30 20:21:44 INFO mlflow.tracking._model_registry.client: Waiting up to 300 seconds for model version to finish creation.                     Model name: random-forest-best-model, version 1\n",
      "Created version '1' of model 'random-forest-best-model'.\n"
     ]
    }
   ],
   "source": [
    "!python register_model.py"
   ]
  },
  {
   "cell_type": "markdown",
   "metadata": {},
   "source": [
    "Download experiment result into csv and view it"
   ]
  },
  {
   "cell_type": "code",
   "execution_count": 38,
   "metadata": {},
   "outputs": [
    {
     "data": {
      "text/html": [
       "<div>\n",
       "<style scoped>\n",
       "    .dataframe tbody tr th:only-of-type {\n",
       "        vertical-align: middle;\n",
       "    }\n",
       "\n",
       "    .dataframe tbody tr th {\n",
       "        vertical-align: top;\n",
       "    }\n",
       "\n",
       "    .dataframe thead th {\n",
       "        text-align: right;\n",
       "    }\n",
       "</style>\n",
       "<table border=\"1\" class=\"dataframe\">\n",
       "  <thead>\n",
       "    <tr style=\"text-align: right;\">\n",
       "      <th></th>\n",
       "      <th>Start Time</th>\n",
       "      <th>Duration</th>\n",
       "      <th>Run ID</th>\n",
       "      <th>Name</th>\n",
       "      <th>Source Type</th>\n",
       "      <th>Source Name</th>\n",
       "      <th>User</th>\n",
       "      <th>Status</th>\n",
       "      <th>bootstrap</th>\n",
       "      <th>ccp_alpha</th>\n",
       "      <th>...</th>\n",
       "      <th>warm_start</th>\n",
       "      <th>test_rmse</th>\n",
       "      <th>training_mae</th>\n",
       "      <th>training_mse</th>\n",
       "      <th>training_r2_score</th>\n",
       "      <th>training_rmse</th>\n",
       "      <th>training_score</th>\n",
       "      <th>valid_rmse</th>\n",
       "      <th>estimator_name</th>\n",
       "      <th>estimator_class</th>\n",
       "    </tr>\n",
       "  </thead>\n",
       "  <tbody>\n",
       "    <tr>\n",
       "      <th>0</th>\n",
       "      <td>2022-05-30 20:19:00</td>\n",
       "      <td>43.0s</td>\n",
       "      <td>bc9c6e32cc374f078b002608af29d0ec</td>\n",
       "      <td>NaN</td>\n",
       "      <td>LOCAL</td>\n",
       "      <td>register_model.py</td>\n",
       "      <td>desenfirman</td>\n",
       "      <td>FINISHED</td>\n",
       "      <td>True</td>\n",
       "      <td>0.0</td>\n",
       "      <td>...</td>\n",
       "      <td>False</td>\n",
       "      <td>6.547886</td>\n",
       "      <td>3.790040</td>\n",
       "      <td>31.131051</td>\n",
       "      <td>0.767166</td>\n",
       "      <td>5.579521</td>\n",
       "      <td>0.767166</td>\n",
       "      <td>6.628426</td>\n",
       "      <td>RandomForestRegressor</td>\n",
       "      <td>sklearn.ensemble._forest.RandomForestRegressor</td>\n",
       "    </tr>\n",
       "    <tr>\n",
       "      <th>1</th>\n",
       "      <td>2022-05-30 20:11:24</td>\n",
       "      <td>39.9s</td>\n",
       "      <td>1a76a5c2a5b0493db3d729ec0cc580de</td>\n",
       "      <td>NaN</td>\n",
       "      <td>LOCAL</td>\n",
       "      <td>register_model.py</td>\n",
       "      <td>desenfirman</td>\n",
       "      <td>FINISHED</td>\n",
       "      <td>True</td>\n",
       "      <td>0.0</td>\n",
       "      <td>...</td>\n",
       "      <td>False</td>\n",
       "      <td>6.547886</td>\n",
       "      <td>3.790040</td>\n",
       "      <td>31.131051</td>\n",
       "      <td>0.767166</td>\n",
       "      <td>5.579521</td>\n",
       "      <td>0.767166</td>\n",
       "      <td>6.628426</td>\n",
       "      <td>RandomForestRegressor</td>\n",
       "      <td>sklearn.ensemble._forest.RandomForestRegressor</td>\n",
       "    </tr>\n",
       "    <tr>\n",
       "      <th>2</th>\n",
       "      <td>2022-05-30 19:59:09</td>\n",
       "      <td>33.0s</td>\n",
       "      <td>9540867b542e475585ecf7360a8222df</td>\n",
       "      <td>NaN</td>\n",
       "      <td>LOCAL</td>\n",
       "      <td>register_model.py</td>\n",
       "      <td>desenfirman</td>\n",
       "      <td>FINISHED</td>\n",
       "      <td>True</td>\n",
       "      <td>0.0</td>\n",
       "      <td>...</td>\n",
       "      <td>False</td>\n",
       "      <td>6.547886</td>\n",
       "      <td>3.790040</td>\n",
       "      <td>31.131051</td>\n",
       "      <td>0.767166</td>\n",
       "      <td>5.579521</td>\n",
       "      <td>0.767166</td>\n",
       "      <td>6.628426</td>\n",
       "      <td>RandomForestRegressor</td>\n",
       "      <td>sklearn.ensemble._forest.RandomForestRegressor</td>\n",
       "    </tr>\n",
       "    <tr>\n",
       "      <th>3</th>\n",
       "      <td>2022-05-30 20:21:15</td>\n",
       "      <td>29.4s</td>\n",
       "      <td>38aca71cc97046f492c3dfba22f97ed3</td>\n",
       "      <td>NaN</td>\n",
       "      <td>LOCAL</td>\n",
       "      <td>register_model.py</td>\n",
       "      <td>desenfirman</td>\n",
       "      <td>FINISHED</td>\n",
       "      <td>True</td>\n",
       "      <td>0.0</td>\n",
       "      <td>...</td>\n",
       "      <td>False</td>\n",
       "      <td>6.548853</td>\n",
       "      <td>3.777622</td>\n",
       "      <td>30.585266</td>\n",
       "      <td>0.771248</td>\n",
       "      <td>5.530395</td>\n",
       "      <td>0.771248</td>\n",
       "      <td>6.629893</td>\n",
       "      <td>RandomForestRegressor</td>\n",
       "      <td>sklearn.ensemble._forest.RandomForestRegressor</td>\n",
       "    </tr>\n",
       "    <tr>\n",
       "      <th>4</th>\n",
       "      <td>2022-05-30 20:14:49</td>\n",
       "      <td>46.8s</td>\n",
       "      <td>587058eb00f945e7a917a85bacfeeaba</td>\n",
       "      <td>NaN</td>\n",
       "      <td>LOCAL</td>\n",
       "      <td>register_model.py</td>\n",
       "      <td>desenfirman</td>\n",
       "      <td>FINISHED</td>\n",
       "      <td>True</td>\n",
       "      <td>0.0</td>\n",
       "      <td>...</td>\n",
       "      <td>False</td>\n",
       "      <td>6.548853</td>\n",
       "      <td>3.777622</td>\n",
       "      <td>30.585266</td>\n",
       "      <td>0.771248</td>\n",
       "      <td>5.530395</td>\n",
       "      <td>0.771248</td>\n",
       "      <td>6.629893</td>\n",
       "      <td>RandomForestRegressor</td>\n",
       "      <td>sklearn.ensemble._forest.RandomForestRegressor</td>\n",
       "    </tr>\n",
       "  </tbody>\n",
       "</table>\n",
       "<p>5 rows × 34 columns</p>\n",
       "</div>"
      ],
      "text/plain": [
       "            Start Time Duration                            Run ID  Name  \\\n",
       "0  2022-05-30 20:19:00    43.0s  bc9c6e32cc374f078b002608af29d0ec   NaN   \n",
       "1  2022-05-30 20:11:24    39.9s  1a76a5c2a5b0493db3d729ec0cc580de   NaN   \n",
       "2  2022-05-30 19:59:09    33.0s  9540867b542e475585ecf7360a8222df   NaN   \n",
       "3  2022-05-30 20:21:15    29.4s  38aca71cc97046f492c3dfba22f97ed3   NaN   \n",
       "4  2022-05-30 20:14:49    46.8s  587058eb00f945e7a917a85bacfeeaba   NaN   \n",
       "\n",
       "  Source Type        Source Name         User    Status  bootstrap  ccp_alpha  \\\n",
       "0       LOCAL  register_model.py  desenfirman  FINISHED       True        0.0   \n",
       "1       LOCAL  register_model.py  desenfirman  FINISHED       True        0.0   \n",
       "2       LOCAL  register_model.py  desenfirman  FINISHED       True        0.0   \n",
       "3       LOCAL  register_model.py  desenfirman  FINISHED       True        0.0   \n",
       "4       LOCAL  register_model.py  desenfirman  FINISHED       True        0.0   \n",
       "\n",
       "   ... warm_start  test_rmse  training_mae training_mse training_r2_score  \\\n",
       "0  ...      False   6.547886      3.790040    31.131051          0.767166   \n",
       "1  ...      False   6.547886      3.790040    31.131051          0.767166   \n",
       "2  ...      False   6.547886      3.790040    31.131051          0.767166   \n",
       "3  ...      False   6.548853      3.777622    30.585266          0.771248   \n",
       "4  ...      False   6.548853      3.777622    30.585266          0.771248   \n",
       "\n",
       "   training_rmse  training_score  valid_rmse         estimator_name  \\\n",
       "0       5.579521        0.767166    6.628426  RandomForestRegressor   \n",
       "1       5.579521        0.767166    6.628426  RandomForestRegressor   \n",
       "2       5.579521        0.767166    6.628426  RandomForestRegressor   \n",
       "3       5.530395        0.771248    6.629893  RandomForestRegressor   \n",
       "4       5.530395        0.771248    6.629893  RandomForestRegressor   \n",
       "\n",
       "                                  estimator_class  \n",
       "0  sklearn.ensemble._forest.RandomForestRegressor  \n",
       "1  sklearn.ensemble._forest.RandomForestRegressor  \n",
       "2  sklearn.ensemble._forest.RandomForestRegressor  \n",
       "3  sklearn.ensemble._forest.RandomForestRegressor  \n",
       "4  sklearn.ensemble._forest.RandomForestRegressor  \n",
       "\n",
       "[5 rows x 34 columns]"
      ]
     },
     "execution_count": 38,
     "metadata": {},
     "output_type": "execute_result"
    }
   ],
   "source": [
    "import pandas as pd\n",
    "test_res = pd.read_csv(\"./random-forest-best-models-experiment-result.csv\").sort_values(by=\"test_rmse\", ascending=True).head()\n",
    "test_res"
   ]
  },
  {
   "cell_type": "code",
   "execution_count": 39,
   "metadata": {},
   "outputs": [
    {
     "name": "stdout",
     "output_type": "stream",
     "text": [
      "Best model: 6.547886185595423\n"
     ]
    }
   ],
   "source": [
    "print(f\"Best model: {test_res.test_rmse.min()}\")"
   ]
  },
  {
   "cell_type": "code",
   "execution_count": null,
   "metadata": {},
   "outputs": [],
   "source": []
  }
 ],
 "metadata": {
  "interpreter": {
   "hash": "73bb5b61f8b7b5b94c3482df26373c59f5e0f7ddd2ee137af143bc535cb1bab0"
  },
  "kernelspec": {
   "display_name": "Python 3.8.12 ('venv': venv)",
   "language": "python",
   "name": "python3"
  },
  "language_info": {
   "codemirror_mode": {
    "name": "ipython",
    "version": 3
   },
   "file_extension": ".py",
   "mimetype": "text/x-python",
   "name": "python",
   "nbconvert_exporter": "python",
   "pygments_lexer": "ipython3",
   "version": "3.8.12"
  },
  "orig_nbformat": 4
 },
 "nbformat": 4,
 "nbformat_minor": 2
}
