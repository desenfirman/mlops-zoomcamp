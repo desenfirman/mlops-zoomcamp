{
 "cells": [
  {
   "cell_type": "markdown",
   "metadata": {},
   "source": [
    "## Question 1"
   ]
  },
  {
   "cell_type": "code",
   "execution_count": 1,
   "metadata": {},
   "outputs": [
    {
     "name": "stdout",
     "output_type": "stream",
     "text": [
      "mlflow, version 1.26.1\n"
     ]
    }
   ],
   "source": [
    "!mlflow --version"
   ]
  },
  {
   "cell_type": "markdown",
   "metadata": {},
   "source": [
    "## Question 2\n",
    "\n",
    "Download the file"
   ]
  },
  {
   "cell_type": "code",
   "execution_count": 2,
   "metadata": {},
   "outputs": [
    {
     "name": "stdout",
     "output_type": "stream",
     "text": [
      "--2022-05-30 18:45:26--  https://s3.amazonaws.com/nyc-tlc/trip+data/green_tripdata_2021-01.parquet\n",
      "Resolving s3.amazonaws.com (s3.amazonaws.com)... 52.217.200.72\n",
      "Connecting to s3.amazonaws.com (s3.amazonaws.com)|52.217.200.72|:443... connected.\n",
      "HTTP request sent, awaiting response... 200 OK\n",
      "Length: 1333519 (1.3M) [binary/octet-stream]\n",
      "Saving to: ‘./data/green_tripdata_2021-01.parquet’\n",
      "\n",
      "./data/green_tripda 100%[===================>]   1.27M   516KB/s    in 2.5s    \n",
      "\n",
      "2022-05-30 18:45:30 (516 KB/s) - ‘./data/green_tripdata_2021-01.parquet’ saved [1333519/1333519]\n",
      "\n",
      "--2022-05-30 18:45:31--  https://s3.amazonaws.com/nyc-tlc/trip+data/green_tripdata_2021-02.parquet\n",
      "Resolving s3.amazonaws.com (s3.amazonaws.com)... 52.216.137.174\n",
      "Connecting to s3.amazonaws.com (s3.amazonaws.com)|52.216.137.174|:443... connected.\n",
      "HTTP request sent, awaiting response... 200 OK\n",
      "Length: 1145679 (1.1M) [binary/octet-stream]\n",
      "Saving to: ‘./data/green_tripdata_2021-02.parquet’\n",
      "\n",
      "./data/green_tripda 100%[===================>]   1.09M   132KB/s    in 8.5s    \n",
      "\n",
      "2022-05-30 18:45:41 (132 KB/s) - ‘./data/green_tripdata_2021-02.parquet’ saved [1145679/1145679]\n",
      "\n",
      "--2022-05-30 18:45:41--  https://s3.amazonaws.com/nyc-tlc/trip+data/green_tripdata_2021-03.parquet\n",
      "Resolving s3.amazonaws.com (s3.amazonaws.com)... 52.217.110.54\n",
      "Connecting to s3.amazonaws.com (s3.amazonaws.com)|52.217.110.54|:443... connected.\n",
      "HTTP request sent, awaiting response... 200 OK\n",
      "Length: 1474538 (1.4M) [binary/octet-stream]\n",
      "Saving to: ‘./data/green_tripdata_2021-03.parquet’\n",
      "\n",
      "./data/green_tripda 100%[===================>]   1.41M   505KB/s    in 2.9s    \n",
      "\n",
      "2022-05-30 18:45:46 (505 KB/s) - ‘./data/green_tripdata_2021-03.parquet’ saved [1474538/1474538]\n",
      "\n"
     ]
    }
   ],
   "source": [
    "!wget -O \"./data/green_tripdata_2021-01.parquet\" \"https://s3.amazonaws.com/nyc-tlc/trip+data/green_tripdata_2021-01.parquet\"\n",
    "!wget -O \"./data/green_tripdata_2021-02.parquet\" \"https://s3.amazonaws.com/nyc-tlc/trip+data/green_tripdata_2021-02.parquet\"\n",
    "!wget -O \"./data/green_tripdata_2021-03.parquet\" \"https://s3.amazonaws.com/nyc-tlc/trip+data/green_tripdata_2021-03.parquet\""
   ]
  },
  {
   "cell_type": "code",
   "execution_count": 5,
   "metadata": {},
   "outputs": [
    {
     "name": "stdout",
     "output_type": "stream",
     "text": [
      "mkdir: cannot create directory ‘./output’: File exists\n"
     ]
    }
   ],
   "source": [
    "!mkdir ./output\n",
    "!python preprocess_data.py --raw_data_path ./data --dest_path ./output"
   ]
  },
  {
   "cell_type": "code",
   "execution_count": 6,
   "metadata": {},
   "outputs": [
    {
     "name": "stdout",
     "output_type": "stream",
     "text": [
      "dv.pkl\ttest.pkl  train.pkl  valid.pkl\n"
     ]
    }
   ],
   "source": [
    "!ls ./output"
   ]
  },
  {
   "cell_type": "markdown",
   "metadata": {},
   "source": [
    "## Question 3\n",
    "\n",
    "First run test"
   ]
  },
  {
   "cell_type": "code",
   "execution_count": 7,
   "metadata": {},
   "outputs": [],
   "source": [
    "!python train.py"
   ]
  },
  {
   "cell_type": "markdown",
   "metadata": {},
   "source": [
    "Second run (with `mlflow.start_run()` and `mlflow.autolog()`) "
   ]
  },
  {
   "cell_type": "code",
   "execution_count": 11,
   "metadata": {},
   "outputs": [
    {
     "name": "stdout",
     "output_type": "stream",
     "text": [
      "2022/05/30 19:05:57 INFO mlflow.tracking.fluent: Autologging successfully enabled for sklearn.\n"
     ]
    }
   ],
   "source": [
    "!python train.py"
   ]
  },
  {
   "cell_type": "code",
   "execution_count": 13,
   "metadata": {},
   "outputs": [
    {
     "name": "stdout",
     "output_type": "stream",
     "text": [
      "bootstrap     max_leaf_nodes         min_weight_fraction_leaf  verbose\n",
      "ccp_alpha     max_samples            n_estimators              warm_start\n",
      "criterion     min_impurity_decrease  n_jobs\n",
      "max_depth     min_samples_leaf       oob_score\n",
      "max_features  min_samples_split      random_state\n"
     ]
    }
   ],
   "source": [
    "ls ./mlruns/0/*/params"
   ]
  },
  {
   "cell_type": "markdown",
   "metadata": {},
   "source": [
    "## Question 4"
   ]
  },
  {
   "cell_type": "code",
   "execution_count": 17,
   "metadata": {},
   "outputs": [
    {
     "name": "stdout",
     "output_type": "stream",
     "text": [
      "[2022-05-30 19:11:13 +0700] [27707] [INFO] Starting gunicorn 20.1.0\n",
      "[2022-05-30 19:11:13 +0700] [27707] [INFO] Listening at: http://127.0.0.1:5000 (27707)\n",
      "[2022-05-30 19:11:13 +0700] [27707] [INFO] Using worker: sync\n",
      "[2022-05-30 19:11:13 +0700] [27712] [INFO] Booting worker with pid: 27712\n",
      "[2022-05-30 19:11:13 +0700] [27713] [INFO] Booting worker with pid: 27713\n",
      "[2022-05-30 19:11:13 +0700] [27714] [INFO] Booting worker with pid: 27714\n",
      "[2022-05-30 19:11:13 +0700] [27715] [INFO] Booting worker with pid: 27715\n",
      "^C\n",
      "[2022-05-30 19:11:56 +0700] [27707] [INFO] Handling signal: int\n",
      "[2022-05-30 19:11:56 +0700] [27713] [INFO] Worker exiting (pid: 27713)\n",
      "[2022-05-30 19:11:56 +0700] [27715] [INFO] Worker exiting (pid: 27715)\n",
      "[2022-05-30 19:11:56 +0700] [27714] [INFO] Worker exiting (pid: 27714)\n",
      "[2022-05-30 19:11:56 +0700] [27712] [INFO] Worker exiting (pid: 27712)\n"
     ]
    }
   ],
   "source": [
    "!mlflow server --backend-store-uri sqlite:///mydb.sqlite --default-artifact-root ./artifacts"
   ]
  },
  {
   "cell_type": "code",
   "execution_count": null,
   "metadata": {},
   "outputs": [],
   "source": []
  }
 ],
 "metadata": {
  "interpreter": {
   "hash": "73bb5b61f8b7b5b94c3482df26373c59f5e0f7ddd2ee137af143bc535cb1bab0"
  },
  "kernelspec": {
   "display_name": "Python 3.8.12 ('venv': venv)",
   "language": "python",
   "name": "python3"
  },
  "language_info": {
   "codemirror_mode": {
    "name": "ipython",
    "version": 3
   },
   "file_extension": ".py",
   "mimetype": "text/x-python",
   "name": "python",
   "nbconvert_exporter": "python",
   "pygments_lexer": "ipython3",
   "version": "3.8.12"
  },
  "orig_nbformat": 4
 },
 "nbformat": 4,
 "nbformat_minor": 2
}
